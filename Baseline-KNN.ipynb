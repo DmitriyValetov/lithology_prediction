{
 "cells": [
  {
   "cell_type": "code",
   "execution_count": 19,
   "metadata": {},
   "outputs": [],
   "source": [
    "import warnings\n",
    "warnings.filterwarnings('ignore')\n",
    "import numpy as np\n",
    "import pandas as pd\n",
    "import seaborn as sns\n",
    "import matplotlib.pyplot as plt\n",
    "from sklearn.model_selection import train_test_split\n",
    "from sklearn import preprocessing\n",
    "from sklearn import metrics\n",
    "from sklearn.metrics import classification_report, confusion_matrix\n",
    "from sklearn.neighbors import KNeighborsClassifier\n",
    "import pickle"
   ]
  },
  {
   "cell_type": "markdown",
   "metadata": {},
   "source": [
    "### Description of the sequence of actions <a class=\"anchor\" id=\"contents\"></a>\n",
    "- [Introduction](#Introduction)\n",
    "- [Dataset description](#Dataset-description)\n",
    "- [Task of the hackathon](#Task-of-the-hackathon)\n",
    "- [Inspect available logs and interpretations](#Inspect-available-logs-and-interpretations)\n",
    "- [Preparing data for training](#Preparing-data-for-training)\n",
    "- [Making predction on test dataset](#Making-predction-on-test-dataset)"
   ]
  },
  {
   "cell_type": "markdown",
   "metadata": {},
   "source": [
    "### Introduction\n",
    "[back to table of contents](#contents)\n",
    "\n",
    "In the Jupyter notebook presented, we are introducing an approach to determine lithology from labeled core and well log data for one oil and gas field. The lithology labels from core data are used to train a supervised machine learning algorithm to predict lithology from well log response. This algorithm can be extended to any other reservoir to improve rock type prediction.\n",
    "\n",
    "Coring is an expensive operation, leading to only a small number wells in specific intervals core is retrieved. Opposite to coring, well logging is relatively inexpensive and is a standard operation. The relationship between lithology and well log data is often overwhelming, complex, and nonlinear. Recently, many studies have shown that machine learning algorithms could improve lithology prediction. The main benefits from improved lithology prediction accuracy would be cost and time efficiency which is especially important for decision-making process in reservoir evaluation and management on early stages of field development.\n",
    "\n",
    "As a baseline solution for the hackathon, we are proposing a k-nearest neighbors classification machine learning algorithm. The aim of supervised learning is to label a small portion of a dataset and allow the algorithm to automate the rest. Such data-driven analysis may optimize well logging, coring, and core analysis program.\n",
    "\n",
    "Available to participants is a dataset (`Train-dataset.csv`) contains well log curves from 11 wells across one field."
   ]
  },
  {
   "cell_type": "markdown",
   "metadata": {},
   "source": [
    "### Dataset description\n",
    "[back to table of contents](#contents)\n",
    "#### Gamma ray log (`GR`)\n",
    "Gamma ray log measures naturally occurring radioactivity of a formation. GR is mainly used for determination of the shaliness of a formation. Values of gamma ray log will be low in clay-free rocks such as sandstones (composed of non-radioactive quartz), limestones, dolostones, anhydrites, most salts and coals, but, on the contrary, high in shales because of high concentrations of radioactive material. However, clean sandstone (i.e., with low shale content) might also produce a high gamma ray response if the sandstone contains potassium feldspars, micas, organic materials (with absorbed uranium), uranium-rich waters or radioactive minerals. Limestones and dolostone also can contain radioactive organic materials or uranium-rich waters. Some coals could be radioactive due to presence of radioactive elements such uranium, thorium, potassium-40, radium and polonium.\n",
    "\n",
    "#### Compensated neutron / Thermal Neutron Porosity log (`CN`)\n",
    "Neutron log is counting the amount of hydrogen atoms in a formation. The tool operates by bombarding the formation with high energy neutrons. These neutrons collide with hydrogen atoms and undergo scattering in the formation, losing energy and producing high energy gamma rays after absorbtion. These high energy gamma rays relate to formation porosity. CN is given in porosity units after being calibrated to become a direct indicator of porosity magnitude with some approximation. There are anomalous absorbers of neutrons such as chlorium that can significantly change total flow of neutrons and produced gamma rays. Hydrogen is concentrated in fluids (oil and water) in pores and hence neutron log is an indicator of porosity, but hydrogen is also contained in chemical structure of minerals, which is significant in shales. Some pores can contain gas, which presented with low concentration of hydrogen, then will not reflects porosity.\n",
    "\n",
    "#### Density (`DEN`)\n",
    "Density log is related to the bulk density of formation. The tool principle is based on a radioactive source and counter. As the tool is run against the borehole wall it emits radioactive particles that interact with electrons in formation via Compton scattering, resulting gamma ray is counted and analyzed to determine the bulk density of a rock. The bulk density is the overall density of the matrix and the fluids (water, oil, gas) within the pores. Hence the traditional use of density log is determination of porosity. In formation with low porosity, measured density values will be closer to the mineralogical (matrix) density, and with increase of porosity density values will get lower. Density porosity is often considered to be better than CN and Sonic Log in terrigenous rocks because it is less affected by shaliness since quartz, feldspar and dry clay mineral have comparable densities. Measured density curve is used for lithology differentiation, especially in combination with CN.\n",
    "\n",
    "#### Resistivity (`RT`)\n",
    "Resistivity log is an indicator of capability of the formation to prevent current flow through it. Hydrocarbons and non-porous rocks do not conduct electric current, but when rock is porous, and pores are interconnected and saturated with formation water, current can flow. Therefore, a difference in resistivity of non-porous rocks, hydrocarbon saturated formation and saline water saturated formation exists and it is essential in identification of hydrocarbon bearing zones. There are other factors also affecting resistivity values. Clay and other minerals, such as pyrite, are conductive and reduce the resistivity values.\n",
    "\n",
    "#### Metadata\n",
    "Dataset contains metadata columns:\n",
    "- `WELL` - name of a well\n",
    "- `X` - coordinate\n",
    "- `Y` - coordinate\n",
    "- `MD` - measured depth of a well log response\n",
    "- `DEPOSITIONAL_ENVIRONMENT` - describes the conditions in which the sediments is deposited. Different depositional environments influence on trend of some well log curves and presence of certain lithology classes\n",
    "- `LITH_NAME` is a lithology class label\n",
    "- `LITH_CODE` is a lithology code\n",
    "\n",
    "The following materias used for prepare well-log curves description:\n",
    "1. Darling, T.. (2005). Well Logging and Formation Evaluation. 10.1016/B978-0-7506-7883-4.X5000-1. \n",
    "2. Serra, Oberto. (1984). Fundamentals of well-log interpretation. Vol. 1: The acquisition of logging data.\n",
    "3. http://homepages.see.leeds.ac.uk/~earpwjg/PG_EN/CD%20Contents/GGL-66565%20Petrophysics%20English/Contents.PDF"
   ]
  },
  {
   "cell_type": "markdown",
   "metadata": {},
   "source": [
    "### Task of the hackathon\n",
    "[back to table of contents](#contents)\n",
    "\n",
    "The validation of your prediction will be performed on a validation dataset (`Validation-dataset.csv`) with a similar lithology class distribution as the training set. The metric by which the solution will be evaluated is weighted F1 score. We encourage participants to try additional features that could increase the F1 score of the model. For example, look for the spatial correlation of the features, explore the relation between discrete variables or try to find some lateral trend in the data.\n",
    "\n",
    "Your task as a participant is to make the best lithology prediction you can and submit your prediction in a CSV file that contains only one column with predicted class of lithology (`LITH_CODE`). CSV file with prediction should not contain the header."
   ]
  },
  {
   "cell_type": "markdown",
   "metadata": {},
   "source": [
    "### Inspect available logs and interpretations\n",
    "[back to table of contents](#contents)"
   ]
  },
  {
   "cell_type": "code",
   "execution_count": 20,
   "metadata": {},
   "outputs": [
    {
     "data": {
      "text/html": [
       "<div>\n",
       "<style scoped>\n",
       "    .dataframe tbody tr th:only-of-type {\n",
       "        vertical-align: middle;\n",
       "    }\n",
       "\n",
       "    .dataframe tbody tr th {\n",
       "        vertical-align: top;\n",
       "    }\n",
       "\n",
       "    .dataframe thead th {\n",
       "        text-align: right;\n",
       "    }\n",
       "</style>\n",
       "<table border=\"1\" class=\"dataframe\">\n",
       "  <thead>\n",
       "    <tr style=\"text-align: right;\">\n",
       "      <th></th>\n",
       "      <th>X</th>\n",
       "      <th>Y</th>\n",
       "      <th>MD</th>\n",
       "      <th>GR</th>\n",
       "      <th>RT</th>\n",
       "      <th>CN</th>\n",
       "      <th>DEN</th>\n",
       "      <th>LITH_CODE</th>\n",
       "    </tr>\n",
       "  </thead>\n",
       "  <tbody>\n",
       "    <tr>\n",
       "      <th>count</th>\n",
       "      <td>45749.000000</td>\n",
       "      <td>45749.000000</td>\n",
       "      <td>45749.000000</td>\n",
       "      <td>45749.000000</td>\n",
       "      <td>45749.000000</td>\n",
       "      <td>45749.000000</td>\n",
       "      <td>45749.000000</td>\n",
       "      <td>45749.000000</td>\n",
       "    </tr>\n",
       "    <tr>\n",
       "      <th>mean</th>\n",
       "      <td>1.670183</td>\n",
       "      <td>1.428714</td>\n",
       "      <td>1289.498006</td>\n",
       "      <td>84.873762</td>\n",
       "      <td>5.385460</td>\n",
       "      <td>0.345358</td>\n",
       "      <td>2.201688</td>\n",
       "      <td>594.933223</td>\n",
       "    </tr>\n",
       "    <tr>\n",
       "      <th>std</th>\n",
       "      <td>1.015506</td>\n",
       "      <td>1.099132</td>\n",
       "      <td>387.339595</td>\n",
       "      <td>15.915062</td>\n",
       "      <td>74.537883</td>\n",
       "      <td>0.076597</td>\n",
       "      <td>0.152785</td>\n",
       "      <td>374.113902</td>\n",
       "    </tr>\n",
       "    <tr>\n",
       "      <th>min</th>\n",
       "      <td>0.364000</td>\n",
       "      <td>0.000000</td>\n",
       "      <td>640.983000</td>\n",
       "      <td>25.000000</td>\n",
       "      <td>0.444750</td>\n",
       "      <td>0.062000</td>\n",
       "      <td>1.381500</td>\n",
       "      <td>100.000000</td>\n",
       "    </tr>\n",
       "    <tr>\n",
       "      <th>25%</th>\n",
       "      <td>0.756400</td>\n",
       "      <td>0.000000</td>\n",
       "      <td>980.300000</td>\n",
       "      <td>75.904300</td>\n",
       "      <td>3.130500</td>\n",
       "      <td>0.292170</td>\n",
       "      <td>2.098700</td>\n",
       "      <td>400.000000</td>\n",
       "    </tr>\n",
       "    <tr>\n",
       "      <th>50%</th>\n",
       "      <td>1.310900</td>\n",
       "      <td>1.983300</td>\n",
       "      <td>1231.900000</td>\n",
       "      <td>86.297800</td>\n",
       "      <td>3.750600</td>\n",
       "      <td>0.333630</td>\n",
       "      <td>2.197695</td>\n",
       "      <td>500.000000</td>\n",
       "    </tr>\n",
       "    <tr>\n",
       "      <th>75%</th>\n",
       "      <td>3.000000</td>\n",
       "      <td>2.091200</td>\n",
       "      <td>1562.183000</td>\n",
       "      <td>95.251900</td>\n",
       "      <td>4.652600</td>\n",
       "      <td>0.387720</td>\n",
       "      <td>2.330100</td>\n",
       "      <td>600.000000</td>\n",
       "    </tr>\n",
       "    <tr>\n",
       "      <th>max</th>\n",
       "      <td>3.000000</td>\n",
       "      <td>3.000000</td>\n",
       "      <td>2275.600000</td>\n",
       "      <td>146.509000</td>\n",
       "      <td>5000.000000</td>\n",
       "      <td>0.794296</td>\n",
       "      <td>2.725900</td>\n",
       "      <td>1500.000000</td>\n",
       "    </tr>\n",
       "  </tbody>\n",
       "</table>\n",
       "</div>"
      ],
      "text/plain": [
       "                  X             Y            MD            GR            RT  \\\n",
       "count  45749.000000  45749.000000  45749.000000  45749.000000  45749.000000   \n",
       "mean       1.670183      1.428714   1289.498006     84.873762      5.385460   \n",
       "std        1.015506      1.099132    387.339595     15.915062     74.537883   \n",
       "min        0.364000      0.000000    640.983000     25.000000      0.444750   \n",
       "25%        0.756400      0.000000    980.300000     75.904300      3.130500   \n",
       "50%        1.310900      1.983300   1231.900000     86.297800      3.750600   \n",
       "75%        3.000000      2.091200   1562.183000     95.251900      4.652600   \n",
       "max        3.000000      3.000000   2275.600000    146.509000   5000.000000   \n",
       "\n",
       "                 CN           DEN     LITH_CODE  \n",
       "count  45749.000000  45749.000000  45749.000000  \n",
       "mean       0.345358      2.201688    594.933223  \n",
       "std        0.076597      0.152785    374.113902  \n",
       "min        0.062000      1.381500    100.000000  \n",
       "25%        0.292170      2.098700    400.000000  \n",
       "50%        0.333630      2.197695    500.000000  \n",
       "75%        0.387720      2.330100    600.000000  \n",
       "max        0.794296      2.725900   1500.000000  "
      ]
     },
     "execution_count": 20,
     "metadata": {},
     "output_type": "execute_result"
    }
   ],
   "source": [
    "df = pd.read_csv('Train-dataset.csv')\n",
    "df.describe()"
   ]
  },
  {
   "cell_type": "code",
   "execution_count": 21,
   "metadata": {},
   "outputs": [
    {
     "data": {
      "text/html": [
       "<div>\n",
       "<style scoped>\n",
       "    .dataframe tbody tr th:only-of-type {\n",
       "        vertical-align: middle;\n",
       "    }\n",
       "\n",
       "    .dataframe tbody tr th {\n",
       "        vertical-align: top;\n",
       "    }\n",
       "\n",
       "    .dataframe thead th {\n",
       "        text-align: right;\n",
       "    }\n",
       "</style>\n",
       "<table border=\"1\" class=\"dataframe\">\n",
       "  <thead>\n",
       "    <tr style=\"text-align: right;\">\n",
       "      <th></th>\n",
       "      <th>WELL</th>\n",
       "      <th>X</th>\n",
       "      <th>Y</th>\n",
       "      <th>MD</th>\n",
       "      <th>GR</th>\n",
       "      <th>RT</th>\n",
       "      <th>CN</th>\n",
       "      <th>DEN</th>\n",
       "      <th>DEPOSITIONAL_ENVIRONMENT</th>\n",
       "      <th>LITH_NAME</th>\n",
       "      <th>LITH_CODE</th>\n",
       "    </tr>\n",
       "  </thead>\n",
       "  <tbody>\n",
       "    <tr>\n",
       "      <th>25036</th>\n",
       "      <td>Well-7</td>\n",
       "      <td>1.3109</td>\n",
       "      <td>2.0912</td>\n",
       "      <td>1225.383</td>\n",
       "      <td>86.53638</td>\n",
       "      <td>4.38040</td>\n",
       "      <td>0.344670</td>\n",
       "      <td>2.235000</td>\n",
       "      <td>Transitional</td>\n",
       "      <td>Marly sandstone</td>\n",
       "      <td>1200</td>\n",
       "    </tr>\n",
       "    <tr>\n",
       "      <th>29118</th>\n",
       "      <td>Well-7</td>\n",
       "      <td>1.3109</td>\n",
       "      <td>2.0912</td>\n",
       "      <td>1633.583</td>\n",
       "      <td>81.06776</td>\n",
       "      <td>3.38876</td>\n",
       "      <td>0.266530</td>\n",
       "      <td>2.196480</td>\n",
       "      <td>Marine</td>\n",
       "      <td>Sandstone</td>\n",
       "      <td>600</td>\n",
       "    </tr>\n",
       "    <tr>\n",
       "      <th>24159</th>\n",
       "      <td>Well-7</td>\n",
       "      <td>1.3109</td>\n",
       "      <td>2.0912</td>\n",
       "      <td>1137.683</td>\n",
       "      <td>86.00675</td>\n",
       "      <td>3.94418</td>\n",
       "      <td>0.353820</td>\n",
       "      <td>2.195980</td>\n",
       "      <td>Transitional</td>\n",
       "      <td>Clay sandstone</td>\n",
       "      <td>500</td>\n",
       "    </tr>\n",
       "    <tr>\n",
       "      <th>14454</th>\n",
       "      <td>Well-11</td>\n",
       "      <td>0.7564</td>\n",
       "      <td>1.9833</td>\n",
       "      <td>1336.300</td>\n",
       "      <td>72.26390</td>\n",
       "      <td>3.30860</td>\n",
       "      <td>0.408140</td>\n",
       "      <td>2.047900</td>\n",
       "      <td>Transitional</td>\n",
       "      <td>Sandstone</td>\n",
       "      <td>600</td>\n",
       "    </tr>\n",
       "    <tr>\n",
       "      <th>9860</th>\n",
       "      <td>Well-11</td>\n",
       "      <td>0.7564</td>\n",
       "      <td>1.9833</td>\n",
       "      <td>876.900</td>\n",
       "      <td>95.39660</td>\n",
       "      <td>4.17090</td>\n",
       "      <td>0.331890</td>\n",
       "      <td>2.183500</td>\n",
       "      <td>Continental</td>\n",
       "      <td>Clay</td>\n",
       "      <td>100</td>\n",
       "    </tr>\n",
       "    <tr>\n",
       "      <th>5701</th>\n",
       "      <td>Well-6</td>\n",
       "      <td>0.6137</td>\n",
       "      <td>3.0000</td>\n",
       "      <td>1016.800</td>\n",
       "      <td>100.78990</td>\n",
       "      <td>3.10480</td>\n",
       "      <td>0.425073</td>\n",
       "      <td>2.120236</td>\n",
       "      <td>Continental</td>\n",
       "      <td>Clay</td>\n",
       "      <td>100</td>\n",
       "    </tr>\n",
       "    <tr>\n",
       "      <th>26068</th>\n",
       "      <td>Well-7</td>\n",
       "      <td>1.3109</td>\n",
       "      <td>2.0912</td>\n",
       "      <td>1328.583</td>\n",
       "      <td>71.15109</td>\n",
       "      <td>4.23863</td>\n",
       "      <td>0.336850</td>\n",
       "      <td>2.205180</td>\n",
       "      <td>Transitional</td>\n",
       "      <td>Sandstone</td>\n",
       "      <td>600</td>\n",
       "    </tr>\n",
       "    <tr>\n",
       "      <th>31232</th>\n",
       "      <td>Well-10</td>\n",
       "      <td>3.0000</td>\n",
       "      <td>0.0000</td>\n",
       "      <td>824.000</td>\n",
       "      <td>86.48460</td>\n",
       "      <td>4.19233</td>\n",
       "      <td>0.395310</td>\n",
       "      <td>2.106000</td>\n",
       "      <td>Continental</td>\n",
       "      <td>Clay sandstone</td>\n",
       "      <td>500</td>\n",
       "    </tr>\n",
       "  </tbody>\n",
       "</table>\n",
       "</div>"
      ],
      "text/plain": [
       "          WELL       X       Y        MD         GR       RT        CN  \\\n",
       "25036   Well-7  1.3109  2.0912  1225.383   86.53638  4.38040  0.344670   \n",
       "29118   Well-7  1.3109  2.0912  1633.583   81.06776  3.38876  0.266530   \n",
       "24159   Well-7  1.3109  2.0912  1137.683   86.00675  3.94418  0.353820   \n",
       "14454  Well-11  0.7564  1.9833  1336.300   72.26390  3.30860  0.408140   \n",
       "9860   Well-11  0.7564  1.9833   876.900   95.39660  4.17090  0.331890   \n",
       "5701    Well-6  0.6137  3.0000  1016.800  100.78990  3.10480  0.425073   \n",
       "26068   Well-7  1.3109  2.0912  1328.583   71.15109  4.23863  0.336850   \n",
       "31232  Well-10  3.0000  0.0000   824.000   86.48460  4.19233  0.395310   \n",
       "\n",
       "            DEN DEPOSITIONAL_ENVIRONMENT        LITH_NAME  LITH_CODE  \n",
       "25036  2.235000             Transitional  Marly sandstone       1200  \n",
       "29118  2.196480                   Marine        Sandstone        600  \n",
       "24159  2.195980             Transitional   Clay sandstone        500  \n",
       "14454  2.047900             Transitional        Sandstone        600  \n",
       "9860   2.183500              Continental             Clay        100  \n",
       "5701   2.120236              Continental             Clay        100  \n",
       "26068  2.205180             Transitional        Sandstone        600  \n",
       "31232  2.106000              Continental   Clay sandstone        500  "
      ]
     },
     "execution_count": 21,
     "metadata": {},
     "output_type": "execute_result"
    }
   ],
   "source": [
    "df.sample(8)"
   ]
  },
  {
   "cell_type": "markdown",
   "metadata": {},
   "source": [
    "There are 11 wells in the training dataset:"
   ]
  },
  {
   "cell_type": "code",
   "execution_count": 22,
   "metadata": {},
   "outputs": [
    {
     "name": "stdout",
     "output_type": "stream",
     "text": [
      "['Well-1' 'Well-9' 'Well-4' 'Well-2' 'Well-3' 'Well-8' 'Well-5' 'Well-6'\n",
      " 'Well-11' 'Well-7' 'Well-10']\n"
     ]
    }
   ],
   "source": [
    "wells = df['WELL'].unique()\n",
    "print(wells)"
   ]
  },
  {
   "cell_type": "markdown",
   "metadata": {},
   "source": [
    "Look at log curves for a couple of wells (change wells number for different well)"
   ]
  },
  {
   "cell_type": "code",
   "execution_count": 23,
   "metadata": {},
   "outputs": [
    {
     "data": {
      "text/plain": [
       "(1810.0, 697.6)"
      ]
     },
     "execution_count": 23,
     "metadata": {},
     "output_type": "execute_result"
    },
    {
     "data": {
      "image/png": "[encoded data removed]",
      "text/plain": [
       "<Figure size 576x360 with 4 Axes>"
      ]
     },
     "metadata": {
      "needs_background": "light"
     },
     "output_type": "display_data"
    }
   ],
   "source": [
    "well_data = df[df['WELL'] == wells[8]]\n",
    "fig, axs = plt.subplots(1, len(well_data.columns)-7, figsize=(8, 5), sharey=True)\n",
    "for ic, col in enumerate(set(well_data.columns)-set(['WELL',\n",
    "                                                     'MD',\n",
    "                                                     'X',\n",
    "                                                     'Y',\n",
    "                                                     'DEPOSITIONAL_ENVIRONMENT',\n",
    "                                                     'LITH_NAME',\n",
    "                                                     'LITH_CODE'])):\n",
    "    axs[ic].plot(well_data[col], well_data['MD'])\n",
    "    axs[ic].set_xlabel(col)\n",
    "axs[0].set_ylim(well_data['MD'].values[-1], well_data['MD'].values[0])"
   ]
  },
  {
   "cell_type": "markdown",
   "metadata": {},
   "source": [
    "See how each lithology class is presented in dataset:"
   ]
  },
  {
   "cell_type": "code",
   "execution_count": 24,
   "metadata": {},
   "outputs": [
    {
     "data": {
      "text/plain": [
       "Sandstone          11572\n",
       "Clay marl           8054\n",
       "Clay                7716\n",
       "Clay sandstone      6496\n",
       "Sandy marl          5677\n",
       "Coal                2547\n",
       "Marl                1236\n",
       "Marly sandstone      889\n",
       "Tight                693\n",
       "Coal clay            443\n",
       "Siltstone clay       340\n",
       "Marl clay             83\n",
       "Siltstone/Loess        3\n",
       "Name: LITH_NAME, dtype: int64"
      ]
     },
     "execution_count": 24,
     "metadata": {},
     "output_type": "execute_result"
    }
   ],
   "source": [
    "df['LITH_NAME'].value_counts()"
   ]
  },
  {
   "cell_type": "markdown",
   "metadata": {},
   "source": [
    "Or plot lithology distribution to get the clear picture:"
   ]
  },
  {
   "cell_type": "code",
   "execution_count": 25,
   "metadata": {},
   "outputs": [],
   "source": [
    "lithology_color = {100: '#997950',\n",
    "                    200: '#cccccc',\n",
    "                    300: '#ffff00',\n",
    "                    400: '#ffccff',\n",
    "                    500: '#006600',\n",
    "                    600: '#666600',\n",
    "                    700: '#F8DE7E',\n",
    "                    800: '#999DA0',\n",
    "                    900: '#9933ff',\n",
    "                    1000: '#ff6600',\n",
    "                    1100: '#000000',\n",
    "                    1200: '#98FB98',\n",
    "                    1300: '#ff9999',\n",
    "                    1400: '#CEB180',\n",
    "                    1500: '#3BB143'\n",
    "                    }\n",
    "\n",
    "lithology_key = {100: 'Clay',\n",
    "                 200: 'Siltstone/Loess',\n",
    "                 300: 'Marl',\n",
    "                 400: 'Clay marl',\n",
    "                 500: 'Clay sandstone',\n",
    "                 600: 'Sandstone',\n",
    "                 700: 'Limestone',\n",
    "                 800: 'Tight',\n",
    "                 900: 'Dolomite',\n",
    "                 1000: 'Coal',\n",
    "                 1100: 'Coal clay',\n",
    "                 1200: 'Marly sandstone',\n",
    "                 1300: 'Sandy marl',\n",
    "                 1400: 'Marl clay',\n",
    "                 1500: 'Siltstone clay'\n",
    "                  }"
   ]
  },
  {
   "cell_type": "code",
   "execution_count": 26,
   "metadata": {},
   "outputs": [],
   "source": [
    "def autolabel(ax, bars, labels):\n",
    "    \"\"\"Attach a text label above each bar.\"\"\"\n",
    "    for bar, label in zip(bars, labels):\n",
    "        height = bar.get_height()\n",
    "        ax.annotate('{}'.format(label),\n",
    "                    xy=(bar.get_x() + bar.get_width() / 2, height),\n",
    "                    xytext=(0, 3),  # 3 points vertical offset\n",
    "                    textcoords=\"offset points\",\n",
    "                    ha='center', va='bottom')"
   ]
  },
  {
   "cell_type": "code",
   "execution_count": 27,
   "metadata": {},
   "outputs": [
    {
     "data": {
      "image/png": "[encoded data removed]",
      "text/plain": [
       "<Figure size 864x576 with 1 Axes>"
      ]
     },
     "metadata": {
      "needs_background": "light"
     },
     "output_type": "display_data"
    }
   ],
   "source": [
    "counts = df['LITH_CODE'].value_counts()\n",
    "names = []\n",
    "percentage = []\n",
    "numbers = []\n",
    "colors = []\n",
    "N = df['LITH_CODE'].shape[0]\n",
    "for item in counts.iteritems():\n",
    "    names.append(lithology_key[item[0]])\n",
    "    percentage.append(float(item[1]) / N*100)\n",
    "    numbers.append(int(item[1]))\n",
    "    colors.append(lithology_color[item[0]])\n",
    "    \n",
    "fig, ax = plt.subplots(1, 1, figsize=(12, 8))\n",
    "bar = ax.bar(x=np.arange(len(names)), height=percentage, color=colors)\n",
    "ax.set_xticklabels(names, rotation=45)\n",
    "ax.set_xticks(np.arange(len(names)))\n",
    "ax.set_ylabel('Lithology presence (%)')\n",
    "\n",
    "autolabel(ax, bar, numbers)"
   ]
  },
  {
   "cell_type": "markdown",
   "metadata": {},
   "source": [
    "Convert categorical varable DEPOSITIONAL_ENVIRONMENT to int variable and append them to the feature df"
   ]
  },
  {
   "cell_type": "code",
   "execution_count": 28,
   "metadata": {},
   "outputs": [
    {
     "data": {
      "text/html": [
       "<div>\n",
       "<style scoped>\n",
       "    .dataframe tbody tr th:only-of-type {\n",
       "        vertical-align: middle;\n",
       "    }\n",
       "\n",
       "    .dataframe tbody tr th {\n",
       "        vertical-align: top;\n",
       "    }\n",
       "\n",
       "    .dataframe thead th {\n",
       "        text-align: right;\n",
       "    }\n",
       "</style>\n",
       "<table border=\"1\" class=\"dataframe\">\n",
       "  <thead>\n",
       "    <tr style=\"text-align: right;\">\n",
       "      <th></th>\n",
       "      <th>X</th>\n",
       "      <th>Y</th>\n",
       "      <th>MD</th>\n",
       "      <th>GR</th>\n",
       "      <th>RT</th>\n",
       "      <th>CN</th>\n",
       "      <th>DEN</th>\n",
       "      <th>LITH_CODE</th>\n",
       "      <th>D_Env</th>\n",
       "    </tr>\n",
       "  </thead>\n",
       "  <tbody>\n",
       "    <tr>\n",
       "      <th>count</th>\n",
       "      <td>45749.000000</td>\n",
       "      <td>45749.000000</td>\n",
       "      <td>45749.000000</td>\n",
       "      <td>45749.000000</td>\n",
       "      <td>45749.000000</td>\n",
       "      <td>45749.000000</td>\n",
       "      <td>45749.000000</td>\n",
       "      <td>45749.000000</td>\n",
       "      <td>45749.000000</td>\n",
       "    </tr>\n",
       "    <tr>\n",
       "      <th>mean</th>\n",
       "      <td>1.670183</td>\n",
       "      <td>1.428714</td>\n",
       "      <td>1289.498006</td>\n",
       "      <td>84.873762</td>\n",
       "      <td>5.385460</td>\n",
       "      <td>0.345358</td>\n",
       "      <td>2.201688</td>\n",
       "      <td>594.933223</td>\n",
       "      <td>1.801854</td>\n",
       "    </tr>\n",
       "    <tr>\n",
       "      <th>std</th>\n",
       "      <td>1.015506</td>\n",
       "      <td>1.099132</td>\n",
       "      <td>387.339595</td>\n",
       "      <td>15.915062</td>\n",
       "      <td>74.537883</td>\n",
       "      <td>0.076597</td>\n",
       "      <td>0.152785</td>\n",
       "      <td>374.113902</td>\n",
       "      <td>0.732745</td>\n",
       "    </tr>\n",
       "    <tr>\n",
       "      <th>min</th>\n",
       "      <td>0.364000</td>\n",
       "      <td>0.000000</td>\n",
       "      <td>640.983000</td>\n",
       "      <td>25.000000</td>\n",
       "      <td>0.444750</td>\n",
       "      <td>0.062000</td>\n",
       "      <td>1.381500</td>\n",
       "      <td>100.000000</td>\n",
       "      <td>1.000000</td>\n",
       "    </tr>\n",
       "    <tr>\n",
       "      <th>25%</th>\n",
       "      <td>0.756400</td>\n",
       "      <td>0.000000</td>\n",
       "      <td>980.300000</td>\n",
       "      <td>75.904300</td>\n",
       "      <td>3.130500</td>\n",
       "      <td>0.292170</td>\n",
       "      <td>2.098700</td>\n",
       "      <td>400.000000</td>\n",
       "      <td>1.000000</td>\n",
       "    </tr>\n",
       "    <tr>\n",
       "      <th>50%</th>\n",
       "      <td>1.310900</td>\n",
       "      <td>1.983300</td>\n",
       "      <td>1231.900000</td>\n",
       "      <td>86.297800</td>\n",
       "      <td>3.750600</td>\n",
       "      <td>0.333630</td>\n",
       "      <td>2.197695</td>\n",
       "      <td>500.000000</td>\n",
       "      <td>2.000000</td>\n",
       "    </tr>\n",
       "    <tr>\n",
       "      <th>75%</th>\n",
       "      <td>3.000000</td>\n",
       "      <td>2.091200</td>\n",
       "      <td>1562.183000</td>\n",
       "      <td>95.251900</td>\n",
       "      <td>4.652600</td>\n",
       "      <td>0.387720</td>\n",
       "      <td>2.330100</td>\n",
       "      <td>600.000000</td>\n",
       "      <td>2.000000</td>\n",
       "    </tr>\n",
       "    <tr>\n",
       "      <th>max</th>\n",
       "      <td>3.000000</td>\n",
       "      <td>3.000000</td>\n",
       "      <td>2275.600000</td>\n",
       "      <td>146.509000</td>\n",
       "      <td>5000.000000</td>\n",
       "      <td>0.794296</td>\n",
       "      <td>2.725900</td>\n",
       "      <td>1500.000000</td>\n",
       "      <td>3.000000</td>\n",
       "    </tr>\n",
       "  </tbody>\n",
       "</table>\n",
       "</div>"
      ],
      "text/plain": [
       "                  X             Y            MD            GR            RT  \\\n",
       "count  45749.000000  45749.000000  45749.000000  45749.000000  45749.000000   \n",
       "mean       1.670183      1.428714   1289.498006     84.873762      5.385460   \n",
       "std        1.015506      1.099132    387.339595     15.915062     74.537883   \n",
       "min        0.364000      0.000000    640.983000     25.000000      0.444750   \n",
       "25%        0.756400      0.000000    980.300000     75.904300      3.130500   \n",
       "50%        1.310900      1.983300   1231.900000     86.297800      3.750600   \n",
       "75%        3.000000      2.091200   1562.183000     95.251900      4.652600   \n",
       "max        3.000000      3.000000   2275.600000    146.509000   5000.000000   \n",
       "\n",
       "                 CN           DEN     LITH_CODE         D_Env  \n",
       "count  45749.000000  45749.000000  45749.000000  45749.000000  \n",
       "mean       0.345358      2.201688    594.933223      1.801854  \n",
       "std        0.076597      0.152785    374.113902      0.732745  \n",
       "min        0.062000      1.381500    100.000000      1.000000  \n",
       "25%        0.292170      2.098700    400.000000      1.000000  \n",
       "50%        0.333630      2.197695    500.000000      2.000000  \n",
       "75%        0.387720      2.330100    600.000000      2.000000  \n",
       "max        0.794296      2.725900   1500.000000      3.000000  "
      ]
     },
     "execution_count": 28,
     "metadata": {},
     "output_type": "execute_result"
    }
   ],
   "source": [
    "MAPPING = {\n",
    "    'Continental': 1,\n",
    "    'Transitional': 2,\n",
    "    'Marine': 3,\n",
    "}\n",
    "\n",
    "df['D_Env']=df['DEPOSITIONAL_ENVIRONMENT'].apply(lambda x: MAPPING[x])\n",
    "df.describe()"
   ]
  },
  {
   "cell_type": "markdown",
   "metadata": {},
   "source": [
    "### Preparing data for training\n",
    "[back to table of contents](#contents)\n",
    "\n",
    "Selecting features for the model, scaling and train and test split"
   ]
  },
  {
   "cell_type": "code",
   "execution_count": 29,
   "metadata": {},
   "outputs": [],
   "source": [
    "Feature = df[['MD','GR', 'RT', 'DEN', 'CN','D_Env']]"
   ]
  },
  {
   "cell_type": "code",
   "execution_count": 30,
   "metadata": {},
   "outputs": [
    {
     "data": {
      "text/plain": [
       "array([[ 0.80679955, -0.05873506, -0.0297766 ,  0.9314631 , -1.24494517,\n",
       "         1.63516556],\n",
       "       [ 0.80705772, -0.04447168, -0.0301925 ,  0.98382475, -1.29716711,\n",
       "         1.63516556],\n",
       "       [ 0.8073159 ,  0.01138796, -0.03080964,  0.98382475, -1.32327808,\n",
       "         1.63516556]])"
      ]
     },
     "execution_count": 30,
     "metadata": {},
     "output_type": "execute_result"
    }
   ],
   "source": [
    "X = Feature\n",
    "scaler = preprocessing.StandardScaler().fit(X)\n",
    "X = scaler.transform(X)\n",
    "X[0:3]"
   ]
  },
  {
   "cell_type": "code",
   "execution_count": 31,
   "metadata": {},
   "outputs": [
    {
     "data": {
      "text/plain": [
       "0    1200\n",
       "1    1200\n",
       "2    1200\n",
       "Name: LITH_CODE, dtype: int64"
      ]
     },
     "execution_count": 31,
     "metadata": {},
     "output_type": "execute_result"
    }
   ],
   "source": [
    "y = df['LITH_CODE']\n",
    "y[0:3]"
   ]
  },
  {
   "cell_type": "code",
   "execution_count": 32,
   "metadata": {},
   "outputs": [
    {
     "name": "stdout",
     "output_type": "stream",
     "text": [
      "Train set: (36599, 6) (36599,)\n",
      "Test set: (9150, 6) (9150,)\n"
     ]
    }
   ],
   "source": [
    "X_train, X_test, y_train, y_test = train_test_split(X, y, test_size = 0.2, random_state = 7)\n",
    "\n",
    "print ('Train set:', X_train.shape,  y_train.shape)\n",
    "print ('Test set:', X_test.shape,  y_test.shape)"
   ]
  },
  {
   "cell_type": "code",
   "execution_count": 33,
   "metadata": {},
   "outputs": [],
   "source": [
    "def show_conf_matrix(y_predict, y_test, classes):\n",
    "    \n",
    "    # Calculate confusion matrix\n",
    "    conf = confusion_matrix(y_predict, y_test)\n",
    "\n",
    "    plt.figure(figsize=(10,8))\n",
    "    sns.set(font_scale=1) # for label size\n",
    "    sns.heatmap(conf, annot=True, annot_kws={\"size\": 16}, fmt=\"d\", linewidths=.5, cmap=\"YlGnBu\", xticklabels=classes, yticklabels=classes) # font size\n",
    "\n",
    "    plt.show()"
   ]
  },
  {
   "cell_type": "code",
   "execution_count": 34,
   "metadata": {},
   "outputs": [
    {
     "name": "stdout",
     "output_type": "stream",
     "text": [
      "[ 100  200  300  400  500  600  800 1000 1100 1200 1300 1400 1500]\n",
      "['Clay', 'Siltstone/Loess', 'Marl', 'Clay marl', 'Clay sandstone', 'Sandstone', 'Tight', 'Coal', 'Coal clay', 'Marly sandstone', 'Sandy marl', 'Marl clay', 'Siltstone clay']\n"
     ]
    }
   ],
   "source": [
    "target_lithologys = []\n",
    "labels = np.sort(y_test.unique())\n",
    "\n",
    "for l_code in labels:\n",
    "    lithology = lithology_key[l_code]\n",
    "    target_lithologys.append(lithology)\n",
    "\n",
    "print(labels)\n",
    "print(target_lithologys)"
   ]
  },
  {
   "cell_type": "code",
   "execution_count": 35,
   "metadata": {},
   "outputs": [
    {
     "data": {
      "text/plain": [
       "array([0.82334816, 0.81376095, 0.83393386, 0.82721039, 0.82745056,\n",
       "       0.82359348, 0.82414665, 0.81986594, 0.81875318])"
      ]
     },
     "execution_count": 35,
     "metadata": {},
     "output_type": "execute_result"
    }
   ],
   "source": [
    "Ks = 10\n",
    "mean_acc = np.zeros((Ks-1))\n",
    "std_acc = np.zeros((Ks-1))\n",
    "\n",
    "for n in range(1,Ks):\n",
    "\n",
    "    neigh = KNeighborsClassifier(n_neighbors=n).fit(X_train,y_train)\n",
    "    yhat=neigh.predict(X_test)\n",
    "    mean_acc[n-1] = metrics.f1_score(y_test, yhat, average='weighted')\n",
    "\n",
    "    \n",
    "    std_acc[n-1]=np.std(yhat==y_test)/np.sqrt(yhat.shape[0])\n",
    "\n",
    "mean_acc"
   ]
  },
  {
   "cell_type": "code",
   "execution_count": 36,
   "metadata": {},
   "outputs": [
    {
     "data": {
      "image/png": "[encoded data removed]",
      "text/plain": [
       "<Figure size 432x288 with 1 Axes>"
      ]
     },
     "metadata": {
      "needs_background": "light"
     },
     "output_type": "display_data"
    },
    {
     "name": "stdout",
     "output_type": "stream",
     "text": [
      "The best accuracy was with 0.8339338571052797 with k= 3\n"
     ]
    }
   ],
   "source": [
    "plt.plot(range(1,Ks), mean_acc, 'r')\n",
    "plt.fill_between(range(1,Ks),mean_acc - 1 * std_acc,mean_acc + 1 * std_acc, alpha=0.10)\n",
    "plt.fill_between(range(1,Ks),mean_acc - 3 * std_acc,mean_acc + 3 * std_acc, alpha=0.10, color='r')\n",
    "plt.legend(('f1 score', '+/- 1xstd','+/- 3xstd'))\n",
    "plt.ylabel('f1 score')\n",
    "plt.xlabel('Number of Neighbors (K)')\n",
    "plt.tight_layout()\n",
    "plt.show()\n",
    "\n",
    "print( \"The best accuracy was with\", mean_acc.max(), \"with k=\", mean_acc.argmax()+1) "
   ]
  },
  {
   "cell_type": "code",
   "execution_count": 37,
   "metadata": {},
   "outputs": [
    {
     "name": "stdout",
     "output_type": "stream",
     "text": [
      "Train set accuracy:  0.91\n",
      "Test set accuracy:  0.83\n"
     ]
    },
    {
     "data": {
      "image/png": "[encoded data removed]",
      "text/plain": [
       "<Figure size 720x576 with 2 Axes>"
      ]
     },
     "metadata": {
      "needs_background": "light"
     },
     "output_type": "display_data"
    },
    {
     "name": "stdout",
     "output_type": "stream",
     "text": [
      "                 precision    recall  f1-score   support\n",
      "\n",
      "           Clay       0.81      0.89      0.85      1533\n",
      "Siltstone/Loess       1.00      1.00      1.00         1\n",
      "           Marl       0.55      0.59      0.57       228\n",
      "      Clay marl       0.89      0.92      0.91      1659\n",
      " Clay sandstone       0.84      0.87      0.86      1343\n",
      "      Sandstone       0.91      0.91      0.91      2281\n",
      "          Tight       0.83      0.70      0.76       124\n",
      "           Coal       0.79      0.69      0.74       503\n",
      "      Coal clay       0.55      0.32      0.41        93\n",
      "Marly sandstone       0.73      0.41      0.52       183\n",
      "     Sandy marl       0.76      0.72      0.74      1125\n",
      "      Marl clay       0.60      0.20      0.30        15\n",
      " Siltstone clay       0.62      0.45      0.52        62\n",
      "\n",
      "       accuracy                           0.84      9150\n",
      "      macro avg       0.76      0.67      0.70      9150\n",
      "   weighted avg       0.83      0.84      0.83      9150\n",
      "\n"
     ]
    }
   ],
   "source": [
    "model = KNeighborsClassifier(n_neighbors=3).fit(X_train,y_train)\n",
    "\n",
    "y_predict = model.predict(X_test)\n",
    "\n",
    "print(\"Train set accuracy: \", round(metrics.f1_score(y_train, model.predict(X_train), average='weighted'), 2))\n",
    "print(\"Test set accuracy: \", round(metrics.f1_score(y_test, y_predict, average='weighted'), 2))\n",
    "\n",
    "show_conf_matrix(y_predict, y_test, target_lithologys)\n",
    "\n",
    "print(classification_report(y_test, y_predict, labels=labels, target_names=target_lithologys, zero_division=0))"
   ]
  },
  {
   "cell_type": "markdown",
   "metadata": {},
   "source": [
    "### Making predction on test dataset\n",
    "[back to table of contents](#contents)"
   ]
  },
  {
   "cell_type": "code",
   "execution_count": 43,
   "metadata": {},
   "outputs": [
    {
     "data": {
      "text/html": [
       "<div>\n",
       "<style scoped>\n",
       "    .dataframe tbody tr th:only-of-type {\n",
       "        vertical-align: middle;\n",
       "    }\n",
       "\n",
       "    .dataframe tbody tr th {\n",
       "        vertical-align: top;\n",
       "    }\n",
       "\n",
       "    .dataframe thead th {\n",
       "        text-align: right;\n",
       "    }\n",
       "</style>\n",
       "<table border=\"1\" class=\"dataframe\">\n",
       "  <thead>\n",
       "    <tr style=\"text-align: right;\">\n",
       "      <th></th>\n",
       "      <th>WELL</th>\n",
       "      <th>X</th>\n",
       "      <th>Y</th>\n",
       "      <th>MD</th>\n",
       "      <th>GR</th>\n",
       "      <th>RT</th>\n",
       "      <th>CN</th>\n",
       "      <th>DEN</th>\n",
       "      <th>DEPOSITIONAL_ENVIRONMENT</th>\n",
       "      <th>D_Env</th>\n",
       "    </tr>\n",
       "  </thead>\n",
       "  <tbody>\n",
       "    <tr>\n",
       "      <th>0</th>\n",
       "      <td>Well-X</td>\n",
       "      <td>2.9956</td>\n",
       "      <td>0.0061</td>\n",
       "      <td>897.065</td>\n",
       "      <td>92.7094</td>\n",
       "      <td>4.51768</td>\n",
       "      <td>0.36366</td>\n",
       "      <td>2.2106</td>\n",
       "      <td>Continental</td>\n",
       "      <td>1</td>\n",
       "    </tr>\n",
       "    <tr>\n",
       "      <th>1</th>\n",
       "      <td>Well-X</td>\n",
       "      <td>2.9956</td>\n",
       "      <td>0.0061</td>\n",
       "      <td>897.165</td>\n",
       "      <td>93.9007</td>\n",
       "      <td>4.30683</td>\n",
       "      <td>0.36951</td>\n",
       "      <td>2.2036</td>\n",
       "      <td>Continental</td>\n",
       "      <td>1</td>\n",
       "    </tr>\n",
       "    <tr>\n",
       "      <th>2</th>\n",
       "      <td>Well-X</td>\n",
       "      <td>2.9956</td>\n",
       "      <td>0.0061</td>\n",
       "      <td>897.265</td>\n",
       "      <td>94.8446</td>\n",
       "      <td>3.98902</td>\n",
       "      <td>0.37914</td>\n",
       "      <td>2.1969</td>\n",
       "      <td>Continental</td>\n",
       "      <td>1</td>\n",
       "    </tr>\n",
       "    <tr>\n",
       "      <th>3</th>\n",
       "      <td>Well-X</td>\n",
       "      <td>2.9956</td>\n",
       "      <td>0.0061</td>\n",
       "      <td>897.365</td>\n",
       "      <td>95.6321</td>\n",
       "      <td>3.67028</td>\n",
       "      <td>0.39020</td>\n",
       "      <td>2.1923</td>\n",
       "      <td>Continental</td>\n",
       "      <td>1</td>\n",
       "    </tr>\n",
       "    <tr>\n",
       "      <th>4</th>\n",
       "      <td>Well-X</td>\n",
       "      <td>2.9956</td>\n",
       "      <td>0.0061</td>\n",
       "      <td>897.465</td>\n",
       "      <td>96.4700</td>\n",
       "      <td>3.63431</td>\n",
       "      <td>0.40098</td>\n",
       "      <td>2.1926</td>\n",
       "      <td>Continental</td>\n",
       "      <td>1</td>\n",
       "    </tr>\n",
       "  </tbody>\n",
       "</table>\n",
       "</div>"
      ],
      "text/plain": [
       "     WELL       X       Y       MD       GR       RT       CN     DEN  \\\n",
       "0  Well-X  2.9956  0.0061  897.065  92.7094  4.51768  0.36366  2.2106   \n",
       "1  Well-X  2.9956  0.0061  897.165  93.9007  4.30683  0.36951  2.2036   \n",
       "2  Well-X  2.9956  0.0061  897.265  94.8446  3.98902  0.37914  2.1969   \n",
       "3  Well-X  2.9956  0.0061  897.365  95.6321  3.67028  0.39020  2.1923   \n",
       "4  Well-X  2.9956  0.0061  897.465  96.4700  3.63431  0.40098  2.1926   \n",
       "\n",
       "  DEPOSITIONAL_ENVIRONMENT  D_Env  \n",
       "0              Continental      1  \n",
       "1              Continental      1  \n",
       "2              Continental      1  \n",
       "3              Continental      1  \n",
       "4              Continental      1  "
      ]
     },
     "metadata": {},
     "output_type": "display_data"
    }
   ],
   "source": [
    "df_test = pd.read_csv('Validation-dataset.csv')\n",
    "df_test['D_Env'] = df_test['DEPOSITIONAL_ENVIRONMENT'].apply(lambda x: MAPPING[x])\n",
    "# display(df_test.describe())\n",
    "display(df_test.head())"
   ]
  },
  {
   "cell_type": "code",
   "execution_count": 44,
   "metadata": {},
   "outputs": [
    {
     "data": {
      "text/plain": [
       "array([100, 100, 100, 100, 100], dtype=int64)"
      ]
     },
     "execution_count": 44,
     "metadata": {},
     "output_type": "execute_result"
    }
   ],
   "source": [
    "X_pred = scaler.transform(df_test[['MD','GR', 'RT', 'DEN', 'CN', 'D_Env']])\n",
    "pred = model.predict(X_pred)\n",
    "\n",
    "pred[:5]\n",
    "\n",
    "# example of how to save a prediction\n",
    "#np.savetxt('prediction.csv', pred, delimiter=',', encoding='utf-8') "
   ]
  },
  {
   "cell_type": "code",
   "execution_count": null,
   "metadata": {},
   "outputs": [],
   "source": []
  }
 ],
 "metadata": {
  "kernelspec": {
   "display_name": "Python 3",
   "language": "python",
   "name": "python3"
  },
  "language_info": {
   "codemirror_mode": {
    "name": "ipython",
    "version": 3
   },
   "file_extension": ".py",
   "mimetype": "text/x-python",
   "name": "python",
   "nbconvert_exporter": "python",
   "pygments_lexer": "ipython3",
   "version": "3.7.7"
  }
 },
 "nbformat": 4,
 "nbformat_minor": 4
}
